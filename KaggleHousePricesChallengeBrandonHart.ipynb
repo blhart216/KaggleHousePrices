{
 "cells": [
  {
   "cell_type": "markdown",
   "metadata": {},
   "source": [
    "\n",
    "<div style = \" margin-left: auto;\n",
    "    margin: auto;\n",
    "    display: block;\n",
    "    background-color: lightblue;\n",
    "    width: 50%\n",
    "    Padding: 15px\">\n",
    "<img src = \"ForSale.jpg\" style=\"display: block;margin-left: auto;\n",
    "    margin-right: auto;\n",
    "    width: 50%;\n",
    "    padding: 15px\">\n",
    "\n",
    "<p style = \"text-align: center; \n",
    "    color:blue;\n",
    "    font-size: 2.5em;\n",
    "    font-Weight: bold;\n",
    "    font-family: serif\">Kaggle House Prices Challenge</p>\n",
    "<p style = \"text-align: center;\n",
    "    color: red;\n",
    "    font-size: 1.5em;\n",
    "    font-Weight: bold; \n",
    "    font-family: serif;\">Using Linear Regression</p>\n",
    "\n",
    "<p style = \"text-align: center\">Brandon Hart</p>\n",
    "<p style = \"text-align: center; \n",
    "    font-weight: bold;\n",
    "    padding-bottom: 15px\">dataNinja</p>\n",
    "</div>\n"
   ]
  },
  {
   "cell_type": "code",
   "execution_count": null,
   "metadata": {
    "collapsed": true
   },
   "outputs": [],
   "source": [
    "# load Libraries\n",
    "\n",
    "# Data Objects\n",
    "import pandas as pd\n",
    "import numpy as np\n",
    "\n",
    "# Data Visualization\n",
    "import matplotlib.pyplot as plt\n",
    "from pylab import rcParams\n",
    "\n",
    "#ML Algorythms and scoring\n",
    "from scipy import stats\n",
    "from sklearn.metrics import mean_squared_error as MSE\n",
    "\n",
    "from sklearn.model_selection import train_test_split\n",
    "from sklearn import preprocessing\n",
    "from sklearn.linear_model import Lasso\n",
    "\n"
   ]
  },
  {
   "cell_type": "code",
   "execution_count": null,
   "metadata": {
    "collapsed": true
   },
   "outputs": [],
   "source": [
    "#Load Data\n",
    "trainingData = pd.read_csv(\"train.csv\")\n",
    "competitionData = pd.read_csv(\"test.csv\")\n"
   ]
  },
  {
   "cell_type": "code",
   "execution_count": null,
   "metadata": {
    "collapsed": true
   },
   "outputs": [],
   "source": [
    "#Set Plotting parameters\n",
    "%matplotlib inline\n",
    "rcParams['figure.figsize'] = 10,4"
   ]
  },
  {
   "cell_type": "code",
   "execution_count": null,
   "metadata": {
    "scrolled": true
   },
   "outputs": [],
   "source": [
    "print(\"Training Data Shape (Rows,Columns):\",trainingData.shape)\n",
    "print(\"Competition Data Shape (Rows,Columns):\", competitionData.shape)\n"
   ]
  },
  {
   "cell_type": "code",
   "execution_count": null,
   "metadata": {},
   "outputs": [],
   "source": [
    "display(trainingData.head())\n",
    "display(competitionData.head())\n"
   ]
  },
  {
   "cell_type": "code",
   "execution_count": null,
   "metadata": {},
   "outputs": [],
   "source": [
    "#Lets see all columns\n",
    "pd.options.display.max_columns = None\n",
    "display(trainingData.head())\n",
    "display(competitionData.head())\n",
    "\n"
   ]
  },
  {
   "cell_type": "markdown",
   "metadata": {},
   "source": [
    "<h1> Analyzing the Data Set </h1>\n",
    "<ul>\n",
    "<li> 79 features!  Thats a lot to think about!  </li>\n",
    "<li> A few NaN (Not Numbers): We have to think about how we deal with those</li>\n",
    "<li> Discrete features like in Street, LotShape, LandContour, et, we must find a way to make these continuous for Regression</li>\n",
    "<li> Data looks like a normal ditribution but is skewed</li>\n",
    "<li> ID Column needs to be pulled out </li>\n",
    "</ul>\n",
    "<p> The goal is to transform this data into a form where regression can be done. </p>"
   ]
  },
  {
   "cell_type": "code",
   "execution_count": null,
   "metadata": {},
   "outputs": [],
   "source": [
    "\n",
    "# Do not want regression algorythm to consider the feature 'Id' so will remove them and replace them as the dataframe index:\n",
    "# This will also make it available to use as a primary key for X and y sets\n",
    "\n",
    "trainingData.set_index('Id',inplace = True)\n",
    "competitionData.set_index('Id',inplace = True)\n",
    "\n",
    "display(trainingData.head())\n",
    "display(competitionData.head())\n",
    "\n",
    "\n",
    "\n",
    "\n",
    "\n"
   ]
  },
  {
   "cell_type": "code",
   "execution_count": null,
   "metadata": {},
   "outputs": [],
   "source": [
    "# For discrete items, replace nan with \"Missing\", for continuous items fill with 0\n",
    "\n",
    "trainingDataColumns = list(trainingData) \n",
    "  \n",
    "for c in trainingDataColumns: \n",
    "    if trainingData[c].dtype == 'O':\n",
    "        trainingData[c].fillna(value = 'Missing', inplace = True)\n",
    "    else :\n",
    "        trainingData[c].fillna(0, inplace = True)\n",
    "            \n",
    "\n",
    "# Do the same for competition data\n",
    "\n",
    "competitionDataColumns = list(competitionData) \n",
    "  \n",
    "for f in competitionDataColumns: \n",
    "    if competitionData[f].dtype == 'O':\n",
    "        competitionData[f].fillna(value = 'Missing', inplace = True)\n",
    "    else :\n",
    "        competitionData[f].fillna(0, inplace = True)\n",
    "\n",
    "display(trainingData.head())\n",
    "display(competitionData.head())"
   ]
  },
  {
   "cell_type": "code",
   "execution_count": null,
   "metadata": {},
   "outputs": [],
   "source": [
    "# Tranform discrete values to columns with 1 and 0s\n",
    "trainingData = pd.get_dummies(trainingData)\n",
    "\n",
    "# Do the same for competition data\n",
    "competitionData = pd.get_dummies(competitionData)\n",
    "\n",
    "\n",
    "display(trainingData.head())\n",
    "display(competitionData.head())\n"
   ]
  },
  {
   "cell_type": "code",
   "execution_count": null,
   "metadata": {},
   "outputs": [],
   "source": [
    "print(\"Training Data Shape (Rows,Columns):\",trainingData.shape)\n",
    "print(\"Competition Data Shape (Rows,Columns):\", competitionData.shape)\n",
    "\n"
   ]
  },
  {
   "cell_type": "code",
   "execution_count": null,
   "metadata": {},
   "outputs": [],
   "source": [
    "#Ooops!!!  There is a differece between features in the the training data set and the competition data set\n",
    "# We will try dropping the features that are not present in both sets\n",
    "\n",
    "sp = trainingData['SalePrice']\n",
    "\n",
    "missingFeatures = list(set(trainingData.columns.values) - set(competitionData.columns.values))\n",
    "trainingData = trainingData.drop(missingFeatures,axis=1)\n",
    "\n",
    "missingFeatures = list(set(competitionData.columns.values) - set(trainingData.columns.values))\n",
    "competitionData = competitionData.drop(missingFeatures,axis=1)\n",
    "\n",
    "print(\"Training Data Shape (Rows,Columns):\",trainingData.shape)\n",
    "print(\"Competition Data Shape (Rows,Columns):\", competitionData.shape)\n"
   ]
  },
  {
   "cell_type": "code",
   "execution_count": null,
   "metadata": {
    "collapsed": true
   },
   "outputs": [],
   "source": [
    "X_train, X_test, y_train, y_test = train_test_split(trainingData, sp, random_state=0)"
   ]
  },
  {
   "cell_type": "code",
   "execution_count": null,
   "metadata": {},
   "outputs": [],
   "source": [
    "# Lasso is a form of linear regression that restricts coefficients to be close to zero or exactly zero.\n",
    "# This acts as a form of automatic feature selection\n",
    "# alpha is how strongly the coefficients are pushed to zero\n",
    "#  I performed a loop on alpha to get the one that returned the highest test scores, removed for faster performance\n",
    "\n",
    "myModel = Lasso(alpha=298.4).fit(X_train,y_train)\n",
    "print (\"Train score: \",myModel.score(X_train,y_train),\"\\nTest score: \", myModel.score(X_test,y_test))\n",
    "print (\"Number of features used: {}\".format(np.sum(myModel.coef_ != 0)))"
   ]
  },
  {
   "cell_type": "code",
   "execution_count": null,
   "metadata": {},
   "outputs": [],
   "source": [
    "#Examine Top Ten Features\n",
    "\n",
    "featureDF = pd.DataFrame(trainingData.columns.values,columns=['Features'])\n",
    "featureDF['w'] = myModel.coef_\n",
    "featureDF['Abs(w)'] = featureDF['w'].abs()\n",
    "featureDF = featureDF.sort_values(by=['Abs(w)'], ascending=False)\n",
    "featuresUsed = featureDF.head(10)\n",
    "\n",
    "display(featuresUsed[['Features','w']])"
   ]
  },
  {
   "cell_type": "code",
   "execution_count": null,
   "metadata": {},
   "outputs": [],
   "source": [
    "# Graph Top Ten Features using bar graph\n",
    "colors = ['tab:blue', 'tab:orange', 'tab:green', 'tab:red', 'tab:purple', 'tab:brown', 'tab:pink', 'tab:gray', 'tab:olive', 'tab:cyan']\n",
    "plt.title('Top 10 Features')\n",
    "plt.xticks(rotation=45)\n",
    "plt.ylabel('Weights')\n",
    "plt.xlabel('Features')\n",
    "plt.yticks(np.arange(-65000, 65000, step=20000))\n",
    "featureList = plt.bar(featuresUsed['Features'],featuresUsed['w'],color=colors)\n",
    "plt.show(block=False)"
   ]
  },
  {
   "cell_type": "code",
   "execution_count": null,
   "metadata": {},
   "outputs": [],
   "source": [
    "#Prepare a datafram called results for review\n",
    "\n",
    "results = pd.DataFrame(myModel.predict(X_test), columns=['Prediction'], index = X_test.index)\n",
    "results['Prediction'] = results['Prediction'].round()\n",
    "results['Actual'] = y_test\n",
    "results['$Variance'] = results['Prediction'] - results['Actual']\n",
    "results['%Variance'] = results['$Variance'] / results['Actual']"
   ]
  },
  {
   "cell_type": "code",
   "execution_count": null,
   "metadata": {},
   "outputs": [],
   "source": [
    "# Review First 10 results & RMSE\n",
    "\n",
    "display(results.head(10))\n",
    "mse = MSE(np.log(results.Actual),np.log(results.Prediction))\n",
    "rmse = mse**(1/2)\n",
    "display(\"RMSE: \", rmse)"
   ]
  },
  {
   "cell_type": "code",
   "execution_count": null,
   "metadata": {},
   "outputs": [],
   "source": [
    "fig = plt.figure()\n",
    "ax1 = fig.add_subplot(111)\n",
    "\n",
    "ax1.scatter(results.index, results['Prediction'], s=10, c='b', marker=\"s\", label='Prediction')\n",
    "ax1.scatter(results.index, results['Actual'], s=10, c='r', marker=\"o\", label='Actual')\n",
    "plt.legend(loc='upper left');\n",
    "plt.show()"
   ]
  },
  {
   "cell_type": "code",
   "execution_count": null,
   "metadata": {},
   "outputs": [],
   "source": [
    "submission = pd.DataFrame(myModel.predict(competitionData), columns=['SalePrice'], index = competitionData.index)\n",
    "\n",
    "display(submission.head())"
   ]
  },
  {
   "cell_type": "code",
   "execution_count": null,
   "metadata": {
    "collapsed": true
   },
   "outputs": [],
   "source": [
    "submission.to_csv(\"submission_bhart.csv\")"
   ]
  },
  {
   "cell_type": "code",
   "execution_count": null,
   "metadata": {
    "collapsed": true
   },
   "outputs": [],
   "source": []
  }
 ],
 "metadata": {
  "kernelspec": {
   "display_name": "Python 3",
   "language": "python",
   "name": "python3"
  },
  "language_info": {
   "codemirror_mode": {
    "name": "ipython",
    "version": 3
   },
   "file_extension": ".py",
   "mimetype": "text/x-python",
   "name": "python",
   "nbconvert_exporter": "python",
   "pygments_lexer": "ipython3",
   "version": "3.6.3"
  }
 },
 "nbformat": 4,
 "nbformat_minor": 2
}
